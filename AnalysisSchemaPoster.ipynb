{
 "cells": [
  {
   "cell_type": "markdown",
   "metadata": {},
   "source": [
    "# Towards a Scientific Workflow Description: a yt Project Prototype for Interdisciplinary Analysis\n",
    "\n",
    "### NCSA & iSchool at University of Illinois\n",
    "- [yt-project.org](http://yt-project.org/)\n",
    "- [data-exp-lab.github.io](https://data-exp-lab.github.io/)\n",
    "- [github.com/yt-project](https://github.com/yt-project/yt/)\n",
    "- [github.com/data-exp-lab/analysis_schema](https://github.com/data-exp-lab/analysis_schema)\n",
    "\n",
    "#### Authors: Sam Walkow, Dr. Chris Havlin, Dr. Matthew Turk, Corentin Cadiou"
   ]
  },
  {
   "cell_type": "code",
   "execution_count": null,
   "metadata": {},
   "outputs": [],
   "source": []
  },
  {
   "cell_type": "code",
   "execution_count": null,
   "metadata": {},
   "outputs": [],
   "source": []
  },
  {
   "cell_type": "markdown",
   "metadata": {},
   "source": [
    "## About the Authors"
   ]
  },
  {
   "cell_type": "markdown",
   "metadata": {},
   "source": [
    "#### Sam Walkow, Informatics PhD Student at the University of Illinois\n",
    "\n",
    "Sam Walkow is a PhD student in Informatics interested in open source software sustainability and culture and data visualization. She's investigating these issues by looking at the intersection of human and computer workflows, problem solving and data conception and representation. \n",
    "\n",
    "#### Contact:\n",
    "- @samwalkow (twitter)\n",
    "- swalkow2@illinois.edu\n",
    "\n",
    "<img src=\"images/swalkow_dec2020.jpg\" align=\"left\" width=\"350\"/>"
   ]
  },
  {
   "cell_type": "code",
   "execution_count": null,
   "metadata": {},
   "outputs": [],
   "source": []
  }
 ],
 "metadata": {
  "kernelspec": {
   "display_name": "AnalysisSchema",
   "language": "python",
   "name": "analysisschema"
  },
  "language_info": {
   "codemirror_mode": {
    "name": "ipython",
    "version": 3
   },
   "file_extension": ".py",
   "mimetype": "text/x-python",
   "name": "python",
   "nbconvert_exporter": "python",
   "pygments_lexer": "ipython3",
   "version": "3.9.4"
  }
 },
 "nbformat": 4,
 "nbformat_minor": 4
}
